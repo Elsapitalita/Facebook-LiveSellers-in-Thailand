{
 "cells": [
  {
   "cell_type": "code",
   "execution_count": 1,
   "metadata": {},
   "outputs": [],
   "source": [
    "import numpy as np #library yg berfungsi untuk membentuk dimensional array\n",
    "import pandas as pd #library yang berfungsi untuk proses analisis data seperti manupulasi data, persiapan data, dan pembersihan data\n",
    "from sklearn.preprocessing import LabelEncoder #berfungsi untuk proses Encode data atau nilai di kolom menjadi angka yang berurutan\n",
    "from sklearn.cluster import KMeans \n",
    "from sklearn.cluster import AgglomerativeClustering\n",
    "from sklearn.metrics import davies_bouldin_score\n",
    "\n",
    "import matplotlib.pyplot as plt #berfungsi untuk memvisualisasikan data\n",
    "%matplotlib inline\n",
    "from sklearn import cluster\n",
    "from sklearn import decomposition"
   ]
  },
  {
   "cell_type": "code",
   "execution_count": 2,
   "metadata": {},
   "outputs": [
    {
     "data": {
      "text/html": [
       "<div>\n",
       "<style scoped>\n",
       "    .dataframe tbody tr th:only-of-type {\n",
       "        vertical-align: middle;\n",
       "    }\n",
       "\n",
       "    .dataframe tbody tr th {\n",
       "        vertical-align: top;\n",
       "    }\n",
       "\n",
       "    .dataframe thead th {\n",
       "        text-align: right;\n",
       "    }\n",
       "</style>\n",
       "<table border=\"1\" class=\"dataframe\">\n",
       "  <thead>\n",
       "    <tr style=\"text-align: right;\">\n",
       "      <th></th>\n",
       "      <th>status_id</th>\n",
       "      <th>status_type</th>\n",
       "      <th>status_published</th>\n",
       "      <th>num_comments</th>\n",
       "      <th>num_shares</th>\n",
       "      <th>num_reactions</th>\n",
       "      <th>num_likes</th>\n",
       "      <th>num_loves</th>\n",
       "      <th>num_wows</th>\n",
       "      <th>num_hahas</th>\n",
       "      <th>num_sads</th>\n",
       "      <th>num_angrys</th>\n",
       "    </tr>\n",
       "  </thead>\n",
       "  <tbody>\n",
       "    <tr>\n",
       "      <td>0</td>\n",
       "      <td>246675545449582_1649696485147474</td>\n",
       "      <td>video</td>\n",
       "      <td>4/22/2018 6:00</td>\n",
       "      <td>512</td>\n",
       "      <td>262</td>\n",
       "      <td>529</td>\n",
       "      <td>432</td>\n",
       "      <td>92</td>\n",
       "      <td>3</td>\n",
       "      <td>1</td>\n",
       "      <td>1</td>\n",
       "      <td>0</td>\n",
       "    </tr>\n",
       "    <tr>\n",
       "      <td>1</td>\n",
       "      <td>246675545449582_1649426988507757</td>\n",
       "      <td>photo</td>\n",
       "      <td>4/21/2018 22:45</td>\n",
       "      <td>0</td>\n",
       "      <td>0</td>\n",
       "      <td>150</td>\n",
       "      <td>150</td>\n",
       "      <td>0</td>\n",
       "      <td>0</td>\n",
       "      <td>0</td>\n",
       "      <td>0</td>\n",
       "      <td>0</td>\n",
       "    </tr>\n",
       "    <tr>\n",
       "      <td>2</td>\n",
       "      <td>246675545449582_1648730588577397</td>\n",
       "      <td>video</td>\n",
       "      <td>4/21/2018 6:17</td>\n",
       "      <td>236</td>\n",
       "      <td>57</td>\n",
       "      <td>227</td>\n",
       "      <td>204</td>\n",
       "      <td>21</td>\n",
       "      <td>1</td>\n",
       "      <td>1</td>\n",
       "      <td>0</td>\n",
       "      <td>0</td>\n",
       "    </tr>\n",
       "    <tr>\n",
       "      <td>3</td>\n",
       "      <td>246675545449582_1648576705259452</td>\n",
       "      <td>photo</td>\n",
       "      <td>4/21/2018 2:29</td>\n",
       "      <td>0</td>\n",
       "      <td>0</td>\n",
       "      <td>111</td>\n",
       "      <td>111</td>\n",
       "      <td>0</td>\n",
       "      <td>0</td>\n",
       "      <td>0</td>\n",
       "      <td>0</td>\n",
       "      <td>0</td>\n",
       "    </tr>\n",
       "    <tr>\n",
       "      <td>4</td>\n",
       "      <td>246675545449582_1645700502213739</td>\n",
       "      <td>photo</td>\n",
       "      <td>4/18/2018 3:22</td>\n",
       "      <td>0</td>\n",
       "      <td>0</td>\n",
       "      <td>213</td>\n",
       "      <td>204</td>\n",
       "      <td>9</td>\n",
       "      <td>0</td>\n",
       "      <td>0</td>\n",
       "      <td>0</td>\n",
       "      <td>0</td>\n",
       "    </tr>\n",
       "  </tbody>\n",
       "</table>\n",
       "</div>"
      ],
      "text/plain": [
       "                          status_id status_type status_published  \\\n",
       "0  246675545449582_1649696485147474       video   4/22/2018 6:00   \n",
       "1  246675545449582_1649426988507757       photo  4/21/2018 22:45   \n",
       "2  246675545449582_1648730588577397       video   4/21/2018 6:17   \n",
       "3  246675545449582_1648576705259452       photo   4/21/2018 2:29   \n",
       "4  246675545449582_1645700502213739       photo   4/18/2018 3:22   \n",
       "\n",
       "   num_comments  num_shares  num_reactions  num_likes  num_loves  num_wows  \\\n",
       "0           512         262            529        432         92         3   \n",
       "1             0           0            150        150          0         0   \n",
       "2           236          57            227        204         21         1   \n",
       "3             0           0            111        111          0         0   \n",
       "4             0           0            213        204          9         0   \n",
       "\n",
       "   num_hahas  num_sads  num_angrys  \n",
       "0          1         1           0  \n",
       "1          0         0           0  \n",
       "2          1         0           0  \n",
       "3          0         0           0  \n",
       "4          0         0           0  "
      ]
     },
     "execution_count": 2,
     "metadata": {},
     "output_type": "execute_result"
    }
   ],
   "source": [
    "#import dataset\n",
    "df = pd.read_csv('Live.csv')\n",
    "df.head()"
   ]
  },
  {
   "cell_type": "code",
   "execution_count": 3,
   "metadata": {},
   "outputs": [
    {
     "data": {
      "text/html": [
       "<div>\n",
       "<style scoped>\n",
       "    .dataframe tbody tr th:only-of-type {\n",
       "        vertical-align: middle;\n",
       "    }\n",
       "\n",
       "    .dataframe tbody tr th {\n",
       "        vertical-align: top;\n",
       "    }\n",
       "\n",
       "    .dataframe thead th {\n",
       "        text-align: right;\n",
       "    }\n",
       "</style>\n",
       "<table border=\"1\" class=\"dataframe\">\n",
       "  <thead>\n",
       "    <tr style=\"text-align: right;\">\n",
       "      <th></th>\n",
       "      <th>num_comments</th>\n",
       "      <th>num_shares</th>\n",
       "      <th>num_reactions</th>\n",
       "      <th>num_likes</th>\n",
       "      <th>num_loves</th>\n",
       "      <th>num_wows</th>\n",
       "      <th>num_hahas</th>\n",
       "      <th>num_sads</th>\n",
       "      <th>num_angrys</th>\n",
       "    </tr>\n",
       "  </thead>\n",
       "  <tbody>\n",
       "    <tr>\n",
       "      <td>count</td>\n",
       "      <td>7050.000000</td>\n",
       "      <td>7050.000000</td>\n",
       "      <td>7050.000000</td>\n",
       "      <td>7050.000000</td>\n",
       "      <td>7050.000000</td>\n",
       "      <td>7050.000000</td>\n",
       "      <td>7050.000000</td>\n",
       "      <td>7050.000000</td>\n",
       "      <td>7050.000000</td>\n",
       "    </tr>\n",
       "    <tr>\n",
       "      <td>mean</td>\n",
       "      <td>224.356028</td>\n",
       "      <td>40.022553</td>\n",
       "      <td>230.117163</td>\n",
       "      <td>215.043121</td>\n",
       "      <td>12.728652</td>\n",
       "      <td>1.289362</td>\n",
       "      <td>0.696454</td>\n",
       "      <td>0.243688</td>\n",
       "      <td>0.113191</td>\n",
       "    </tr>\n",
       "    <tr>\n",
       "      <td>std</td>\n",
       "      <td>889.636820</td>\n",
       "      <td>131.599965</td>\n",
       "      <td>462.625309</td>\n",
       "      <td>449.472357</td>\n",
       "      <td>39.972930</td>\n",
       "      <td>8.719650</td>\n",
       "      <td>3.957183</td>\n",
       "      <td>1.597156</td>\n",
       "      <td>0.726812</td>\n",
       "    </tr>\n",
       "    <tr>\n",
       "      <td>min</td>\n",
       "      <td>0.000000</td>\n",
       "      <td>0.000000</td>\n",
       "      <td>0.000000</td>\n",
       "      <td>0.000000</td>\n",
       "      <td>0.000000</td>\n",
       "      <td>0.000000</td>\n",
       "      <td>0.000000</td>\n",
       "      <td>0.000000</td>\n",
       "      <td>0.000000</td>\n",
       "    </tr>\n",
       "    <tr>\n",
       "      <td>25%</td>\n",
       "      <td>0.000000</td>\n",
       "      <td>0.000000</td>\n",
       "      <td>17.000000</td>\n",
       "      <td>17.000000</td>\n",
       "      <td>0.000000</td>\n",
       "      <td>0.000000</td>\n",
       "      <td>0.000000</td>\n",
       "      <td>0.000000</td>\n",
       "      <td>0.000000</td>\n",
       "    </tr>\n",
       "    <tr>\n",
       "      <td>50%</td>\n",
       "      <td>4.000000</td>\n",
       "      <td>0.000000</td>\n",
       "      <td>59.500000</td>\n",
       "      <td>58.000000</td>\n",
       "      <td>0.000000</td>\n",
       "      <td>0.000000</td>\n",
       "      <td>0.000000</td>\n",
       "      <td>0.000000</td>\n",
       "      <td>0.000000</td>\n",
       "    </tr>\n",
       "    <tr>\n",
       "      <td>75%</td>\n",
       "      <td>23.000000</td>\n",
       "      <td>4.000000</td>\n",
       "      <td>219.000000</td>\n",
       "      <td>184.750000</td>\n",
       "      <td>3.000000</td>\n",
       "      <td>0.000000</td>\n",
       "      <td>0.000000</td>\n",
       "      <td>0.000000</td>\n",
       "      <td>0.000000</td>\n",
       "    </tr>\n",
       "    <tr>\n",
       "      <td>max</td>\n",
       "      <td>20990.000000</td>\n",
       "      <td>3424.000000</td>\n",
       "      <td>4710.000000</td>\n",
       "      <td>4710.000000</td>\n",
       "      <td>657.000000</td>\n",
       "      <td>278.000000</td>\n",
       "      <td>157.000000</td>\n",
       "      <td>51.000000</td>\n",
       "      <td>31.000000</td>\n",
       "    </tr>\n",
       "  </tbody>\n",
       "</table>\n",
       "</div>"
      ],
      "text/plain": [
       "       num_comments   num_shares  num_reactions    num_likes    num_loves  \\\n",
       "count   7050.000000  7050.000000    7050.000000  7050.000000  7050.000000   \n",
       "mean     224.356028    40.022553     230.117163   215.043121    12.728652   \n",
       "std      889.636820   131.599965     462.625309   449.472357    39.972930   \n",
       "min        0.000000     0.000000       0.000000     0.000000     0.000000   \n",
       "25%        0.000000     0.000000      17.000000    17.000000     0.000000   \n",
       "50%        4.000000     0.000000      59.500000    58.000000     0.000000   \n",
       "75%       23.000000     4.000000     219.000000   184.750000     3.000000   \n",
       "max    20990.000000  3424.000000    4710.000000  4710.000000   657.000000   \n",
       "\n",
       "          num_wows    num_hahas     num_sads   num_angrys  \n",
       "count  7050.000000  7050.000000  7050.000000  7050.000000  \n",
       "mean      1.289362     0.696454     0.243688     0.113191  \n",
       "std       8.719650     3.957183     1.597156     0.726812  \n",
       "min       0.000000     0.000000     0.000000     0.000000  \n",
       "25%       0.000000     0.000000     0.000000     0.000000  \n",
       "50%       0.000000     0.000000     0.000000     0.000000  \n",
       "75%       0.000000     0.000000     0.000000     0.000000  \n",
       "max     278.000000   157.000000    51.000000    31.000000  "
      ]
     },
     "execution_count": 3,
     "metadata": {},
     "output_type": "execute_result"
    }
   ],
   "source": [
    "#eksplorasi data\n",
    "df.describe()\n",
    "\n",
    "#describe berfungsi untuk memberikan summary ataupun ringkasan dari data yang digunakan"
   ]
  },
  {
   "cell_type": "code",
   "execution_count": 4,
   "metadata": {},
   "outputs": [
    {
     "name": "stdout",
     "output_type": "stream",
     "text": [
      "<class 'pandas.core.frame.DataFrame'>\n",
      "RangeIndex: 7050 entries, 0 to 7049\n",
      "Data columns (total 12 columns):\n",
      "status_id           7050 non-null object\n",
      "status_type         7050 non-null object\n",
      "status_published    7050 non-null object\n",
      "num_comments        7050 non-null int64\n",
      "num_shares          7050 non-null int64\n",
      "num_reactions       7050 non-null int64\n",
      "num_likes           7050 non-null int64\n",
      "num_loves           7050 non-null int64\n",
      "num_wows            7050 non-null int64\n",
      "num_hahas           7050 non-null int64\n",
      "num_sads            7050 non-null int64\n",
      "num_angrys          7050 non-null int64\n",
      "dtypes: int64(9), object(3)\n",
      "memory usage: 661.1+ KB\n"
     ]
    }
   ],
   "source": [
    "#eksplorasi data\n",
    "df.info()\n",
    "\n",
    "#info berfungsi untuk menampilkan nomor index beserta tipe data yang digunakan pada dataset"
   ]
  },
  {
   "cell_type": "code",
   "execution_count": 5,
   "metadata": {},
   "outputs": [
    {
     "data": {
      "text/plain": [
       "status_id           0\n",
       "status_type         0\n",
       "status_published    0\n",
       "num_comments        0\n",
       "num_shares          0\n",
       "num_reactions       0\n",
       "num_likes           0\n",
       "num_loves           0\n",
       "num_wows            0\n",
       "num_hahas           0\n",
       "num_sads            0\n",
       "num_angrys          0\n",
       "dtype: int64"
      ]
     },
     "execution_count": 5,
     "metadata": {},
     "output_type": "execute_result"
    }
   ],
   "source": [
    "#missing data\n",
    "#missing data berguna untuk melihat apakah terdapat data yang kosong atau hilang pada dataset\n",
    "df.isnull().sum()\n",
    "\n",
    "#isnull() berfungsi untuk mengecek apakah ada nilai null dengan mengeluarkan nilai boolean 0 atau 1\n",
    "#sum() berfungsi untuk menjumlahkan semua item"
   ]
  },
  {
   "cell_type": "code",
   "execution_count": 6,
   "metadata": {},
   "outputs": [],
   "source": [
    "#menghilangkan atau membuang data yang tidak berpengaruh\n",
    "df.drop(['status_id', 'status_published'], axis=1, inplace=True)"
   ]
  },
  {
   "cell_type": "code",
   "execution_count": 7,
   "metadata": {},
   "outputs": [
    {
     "data": {
      "text/html": [
       "<div>\n",
       "<style scoped>\n",
       "    .dataframe tbody tr th:only-of-type {\n",
       "        vertical-align: middle;\n",
       "    }\n",
       "\n",
       "    .dataframe tbody tr th {\n",
       "        vertical-align: top;\n",
       "    }\n",
       "\n",
       "    .dataframe thead th {\n",
       "        text-align: right;\n",
       "    }\n",
       "</style>\n",
       "<table border=\"1\" class=\"dataframe\">\n",
       "  <thead>\n",
       "    <tr style=\"text-align: right;\">\n",
       "      <th></th>\n",
       "      <th>status_type</th>\n",
       "      <th>num_comments</th>\n",
       "      <th>num_shares</th>\n",
       "      <th>num_reactions</th>\n",
       "      <th>num_likes</th>\n",
       "      <th>num_loves</th>\n",
       "      <th>num_wows</th>\n",
       "      <th>num_hahas</th>\n",
       "      <th>num_sads</th>\n",
       "      <th>num_angrys</th>\n",
       "    </tr>\n",
       "  </thead>\n",
       "  <tbody>\n",
       "    <tr>\n",
       "      <td>0</td>\n",
       "      <td>video</td>\n",
       "      <td>512</td>\n",
       "      <td>262</td>\n",
       "      <td>529</td>\n",
       "      <td>432</td>\n",
       "      <td>92</td>\n",
       "      <td>3</td>\n",
       "      <td>1</td>\n",
       "      <td>1</td>\n",
       "      <td>0</td>\n",
       "    </tr>\n",
       "    <tr>\n",
       "      <td>1</td>\n",
       "      <td>photo</td>\n",
       "      <td>0</td>\n",
       "      <td>0</td>\n",
       "      <td>150</td>\n",
       "      <td>150</td>\n",
       "      <td>0</td>\n",
       "      <td>0</td>\n",
       "      <td>0</td>\n",
       "      <td>0</td>\n",
       "      <td>0</td>\n",
       "    </tr>\n",
       "    <tr>\n",
       "      <td>2</td>\n",
       "      <td>video</td>\n",
       "      <td>236</td>\n",
       "      <td>57</td>\n",
       "      <td>227</td>\n",
       "      <td>204</td>\n",
       "      <td>21</td>\n",
       "      <td>1</td>\n",
       "      <td>1</td>\n",
       "      <td>0</td>\n",
       "      <td>0</td>\n",
       "    </tr>\n",
       "    <tr>\n",
       "      <td>3</td>\n",
       "      <td>photo</td>\n",
       "      <td>0</td>\n",
       "      <td>0</td>\n",
       "      <td>111</td>\n",
       "      <td>111</td>\n",
       "      <td>0</td>\n",
       "      <td>0</td>\n",
       "      <td>0</td>\n",
       "      <td>0</td>\n",
       "      <td>0</td>\n",
       "    </tr>\n",
       "    <tr>\n",
       "      <td>4</td>\n",
       "      <td>photo</td>\n",
       "      <td>0</td>\n",
       "      <td>0</td>\n",
       "      <td>213</td>\n",
       "      <td>204</td>\n",
       "      <td>9</td>\n",
       "      <td>0</td>\n",
       "      <td>0</td>\n",
       "      <td>0</td>\n",
       "      <td>0</td>\n",
       "    </tr>\n",
       "  </tbody>\n",
       "</table>\n",
       "</div>"
      ],
      "text/plain": [
       "  status_type  num_comments  num_shares  num_reactions  num_likes  num_loves  \\\n",
       "0       video           512         262            529        432         92   \n",
       "1       photo             0           0            150        150          0   \n",
       "2       video           236          57            227        204         21   \n",
       "3       photo             0           0            111        111          0   \n",
       "4       photo             0           0            213        204          9   \n",
       "\n",
       "   num_wows  num_hahas  num_sads  num_angrys  \n",
       "0         3          1         1           0  \n",
       "1         0          0         0           0  \n",
       "2         1          1         0           0  \n",
       "3         0          0         0           0  \n",
       "4         0          0         0           0  "
      ]
     },
     "execution_count": 7,
     "metadata": {},
     "output_type": "execute_result"
    }
   ],
   "source": [
    "df.head()"
   ]
  },
  {
   "cell_type": "code",
   "execution_count": 8,
   "metadata": {
    "scrolled": true
   },
   "outputs": [
    {
     "data": {
      "text/plain": [
       "<matplotlib.axes._subplots.AxesSubplot at 0x23cc5e670c8>"
      ]
     },
     "execution_count": 8,
     "metadata": {},
     "output_type": "execute_result"
    },
    {
     "data": {
      "image/png": "[encoded data removed]",
      "text/plain": [
       "<Figure size 432x288 with 1 Axes>"
      ]
     },
     "metadata": {
      "needs_background": "light"
     },
     "output_type": "display_data"
    },
    {
     "data": {
      "image/png": "[encoded data removed]",
      "text/plain": [
       "<Figure size 432x288 with 1 Axes>"
      ]
     },
     "metadata": {
      "needs_background": "light"
     },
     "output_type": "display_data"
    },
    {
     "data": {
      "image/png": "[encoded data removed]",
      "text/plain": [
       "<Figure size 432x288 with 1 Axes>"
      ]
     },
     "metadata": {
      "needs_background": "light"
     },
     "output_type": "display_data"
    },
    {
     "data": {
      "image/png": "[encoded data removed]",
      "text/plain": [
       "<Figure size 432x288 with 1 Axes>"
      ]
     },
     "metadata": {
      "needs_background": "light"
     },
     "output_type": "display_data"
    },
    {
     "data": {
      "image/png": "[encoded data removed]",
      "text/plain": [
       "<Figure size 432x288 with 1 Axes>"
      ]
     },
     "metadata": {
      "needs_background": "light"
     },
     "output_type": "display_data"
    },
    {
     "data": {
      "image/png": "[encoded data removed]",
      "text/plain": [
       "<Figure size 432x288 with 1 Axes>"
      ]
     },
     "metadata": {
      "needs_background": "light"
     },
     "output_type": "display_data"
    },
    {
     "data": {
      "image/png": "[encoded data removed]",
      "text/plain": [
       "<Figure size 432x288 with 1 Axes>"
      ]
     },
     "metadata": {
      "needs_background": "light"
     },
     "output_type": "display_data"
    },
    {
     "data": {
      "image/png": "[encoded data removed]",
      "text/plain": [
       "<Figure size 432x288 with 1 Axes>"
      ]
     },
     "metadata": {
      "needs_background": "light"
     },
     "output_type": "display_data"
    },
    {
     "data": {
      "image/png": "[encoded data removed]",
      "text/plain": [
       "<Figure size 432x288 with 1 Axes>"
      ]
     },
     "metadata": {
      "needs_background": "light"
     },
     "output_type": "display_data"
    }
   ],
   "source": [
    "#eksplorasi data\n",
    "#barplot\n",
    "df.groupby('status_type').sum().plot(kind='bar', y='num_reactions')\n",
    "df.groupby('status_type').sum().plot(kind='bar', y='num_comments')\n",
    "df.groupby('status_type').sum().plot(kind='bar', y='num_shares')\n",
    "df.groupby('status_type').sum().plot(kind='bar', y='num_likes')\n",
    "df.groupby('status_type').sum().plot(kind='bar', y='num_loves')\n",
    "df.groupby('status_type').sum().plot(kind='bar', y='num_wows')\n",
    "df.groupby('status_type').sum().plot(kind='bar', y='num_hahas')\n",
    "df.groupby(data:image/png;base64,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'status_type').sum().plot(kind='bar', y='num_sads')\n",
    "df.groupby('status_type').sum().plot(kind='bar', y='num_angrys')"
   ]
  },
  {
   "cell_type": "code",
   "execution_count": 9,
   "metadata": {},
   "outputs": [
    {
     "data": {
      "text/plain": [
       "array(['video', 'photo', 'link', 'status'], dtype=object)"
      ]
     },
     "execution_count": 9,
     "metadata": {},
     "output_type": "execute_result"
    }
   ],
   "source": [
    "df['status_type'].unique()"
   ]
  },
  {
   "cell_type": "code",
   "execution_count": 10,
   "metadata": {},
   "outputs": [
    {
     "data": {
      "text/html": [
       "<div>\n",
       "<style scoped>\n",
       "    .dataframe tbody tr th:only-of-type {\n",
       "        vertical-align: middle;\n",
       "    }\n",
       "\n",
       "    .dataframe tbody tr th {\n",
       "        vertical-align: top;\n",
       "    }\n",
       "\n",
       "    .dataframe thead th {\n",
       "        text-align: right;\n",
       "    }\n",
       "</style>\n",
       "<table border=\"1\" class=\"dataframe\">\n",
       "  <thead>\n",
       "    <tr style=\"text-align: right;\">\n",
       "      <th></th>\n",
       "      <th>status_type</th>\n",
       "      <th>num_comments</th>\n",
       "      <th>num_shares</th>\n",
       "      <th>num_reactions</th>\n",
       "      <th>num_likes</th>\n",
       "      <th>num_loves</th>\n",
       "      <th>num_wows</th>\n",
       "      <th>num_hahas</th>\n",
       "      <th>num_sads</th>\n",
       "      <th>num_angrys</th>\n",
       "    </tr>\n",
       "  </thead>\n",
       "  <tbody>\n",
       "    <tr>\n",
       "      <td>0</td>\n",
       "      <td>video</td>\n",
       "      <td>512</td>\n",
       "      <td>262</td>\n",
       "      <td>529</td>\n",
       "      <td>432</td>\n",
       "      <td>92</td>\n",
       "      <td>3</td>\n",
       "      <td>1</td>\n",
       "      <td>1</td>\n",
       "      <td>0</td>\n",
       "    </tr>\n",
       "    <tr>\n",
       "      <td>1</td>\n",
       "      <td>photo</td>\n",
       "      <td>0</td>\n",
       "      <td>0</td>\n",
       "      <td>150</td>\n",
       "      <td>150</td>\n",
       "      <td>0</td>\n",
       "      <td>0</td>\n",
       "      <td>0</td>\n",
       "      <td>0</td>\n",
       "      <td>0</td>\n",
       "    </tr>\n",
       "    <tr>\n",
       "      <td>2</td>\n",
       "      <td>video</td>\n",
       "      <td>236</td>\n",
       "      <td>57</td>\n",
       "      <td>227</td>\n",
       "      <td>204</td>\n",
       "      <td>21</td>\n",
       "      <td>1</td>\n",
       "      <td>1</td>\n",
       "      <td>0</td>\n",
       "      <td>0</td>\n",
       "    </tr>\n",
       "    <tr>\n",
       "      <td>3</td>\n",
       "      <td>photo</td>\n",
       "      <td>0</td>\n",
       "      <td>0</td>\n",
       "      <td>111</td>\n",
       "      <td>111</td>\n",
       "      <td>0</td>\n",
       "      <td>0</td>\n",
       "      <td>0</td>\n",
       "      <td>0</td>\n",
       "      <td>0</td>\n",
       "    </tr>\n",
       "    <tr>\n",
       "      <td>4</td>\n",
       "      <td>photo</td>\n",
       "      <td>0</td>\n",
       "      <td>0</td>\n",
       "      <td>213</td>\n",
       "      <td>204</td>\n",
       "      <td>9</td>\n",
       "      <td>0</td>\n",
       "      <td>0</td>\n",
       "      <td>0</td>\n",
       "      <td>0</td>\n",
       "    </tr>\n",
       "    <tr>\n",
       "      <td>...</td>\n",
       "      <td>...</td>\n",
       "      <td>...</td>\n",
       "      <td>...</td>\n",
       "      <td>...</td>\n",
       "      <td>...</td>\n",
       "      <td>...</td>\n",
       "      <td>...</td>\n",
       "      <td>...</td>\n",
       "      <td>...</td>\n",
       "      <td>...</td>\n",
       "    </tr>\n",
       "    <tr>\n",
       "      <td>7045</td>\n",
       "      <td>photo</td>\n",
       "      <td>0</td>\n",
       "      <td>0</td>\n",
       "      <td>89</td>\n",
       "      <td>89</td>\n",
       "      <td>0</td>\n",
       "      <td>0</td>\n",
       "      <td>0</td>\n",
       "      <td>0</td>\n",
       "      <td>0</td>\n",
       "    </tr>\n",
       "    <tr>\n",
       "      <td>7046</td>\n",
       "      <td>photo</td>\n",
       "      <td>0</td>\n",
       "      <td>0</td>\n",
       "      <td>16</td>\n",
       "      <td>14</td>\n",
       "      <td>1</td>\n",
       "      <td>0</td>\n",
       "      <td>1</td>\n",
       "      <td>0</td>\n",
       "      <td>0</td>\n",
       "    </tr>\n",
       "    <tr>\n",
       "      <td>7047</td>\n",
       "      <td>photo</td>\n",
       "      <td>0</td>\n",
       "      <td>0</td>\n",
       "      <td>2</td>\n",
       "      <td>1</td>\n",
       "      <td>1</td>\n",
       "      <td>0</td>\n",
       "      <td>0</td>\n",
       "      <td>0</td>\n",
       "      <td>0</td>\n",
       "    </tr>\n",
       "    <tr>\n",
       "      <td>7048</td>\n",
       "      <td>photo</td>\n",
       "      <td>12</td>\n",
       "      <td>22</td>\n",
       "      <td>351</td>\n",
       "      <td>349</td>\n",
       "      <td>2</td>\n",
       "      <td>0</td>\n",
       "      <td>0</td>\n",
       "      <td>0</td>\n",
       "      <td>0</td>\n",
       "    </tr>\n",
       "    <tr>\n",
       "      <td>7049</td>\n",
       "      <td>photo</td>\n",
       "      <td>0</td>\n",
       "      <td>0</td>\n",
       "      <td>17</td>\n",
       "      <td>17</td>\n",
       "      <td>0</td>\n",
       "      <td>0</td>\n",
       "      <td>0</td>\n",
       "      <td>0</td>\n",
       "      <td>0</td>\n",
       "    </tr>\n",
       "  </tbody>\n",
       "</table>\n",
       "<p>7050 rows × 10 columns</p>\n",
       "</div>"
      ],
      "text/plain": [
       "     status_type  num_comments  num_shares  num_reactions  num_likes  \\\n",
       "0          video           512         262            529        432   \n",
       "1          photo             0           0            150        150   \n",
       "2          video           236          57            227        204   \n",
       "3          photo             0           0            111        111   \n",
       "4          photo             0           0            213        204   \n",
       "...          ...           ...         ...            ...        ...   \n",
       "7045       photo             0           0             89         89   \n",
       "7046       photo             0           0             16         14   \n",
       "7047       photo             0           0              2          1   \n",
       "7048       photo            12          22            351        349   \n",
       "7049       photo             0           0             17         17   \n",
       "\n",
       "      num_loves  num_wows  num_hahas  num_sads  num_angrys  \n",
       "0            92         3          1         1           0  \n",
       "1             0         0          0         0           0  \n",
       "2            21         1          1         0           0  \n",
       "3             0         0          0         0           0  \n",
       "4             9         0          0         0           0  \n",
       "...         ...       ...        ...       ...         ...  \n",
       "7045          0         0          0         0           0  \n",
       "7046          1         0          1         0           0  \n",
       "7047          1         0          0         0           0  \n",
       "7048          2         0          0         0           0  \n",
       "7049          0         0          0         0           0  \n",
       "\n",
       "[7050 rows x 10 columns]"
      ]
     },
     "execution_count": 10,
     "metadata": {},
     "output_type": "execute_result"
    }
   ],
   "source": [
    "df"
   ]
  },
  {
   "cell_type": "code",
   "execution_count": 11,
   "metadata": {},
   "outputs": [],
   "source": [
    "#visualisasi Data\n",
    "reac = df[\"num_reactions\"]"
   ]
  },
  {
   "cell_type": "code",
   "execution_count": 12,
   "metadata": {},
   "outputs": [
    {
     "data": {
      "text/plain": [
       "0    529\n",
       "1    150\n",
       "2    227\n",
       "3    111\n",
       "4    213\n",
       "Name: num_reactions, dtype: int64"
      ]
     },
     "execution_count": 12,
     "metadata": {},
     "output_type": "execute_result"
    }
   ],
   "source": [
    "reac.head()"
   ]
  },
  {
   "cell_type": "code",
   "execution_count": 13,
   "metadata": {},
   "outputs": [],
   "source": [
    "like = df[\"num_likes\"]"
   ]
  },
  {
   "cell_type": "code",
   "execution_count": 14,
   "metadata": {
    "scrolled": true
   },
   "outputs": [
    {
     "data": {
      "text/plain": [
       "Text(0.5, 1.0, 'REACTION VS LIKES')"
      ]
     },
     "execution_count": 14,
     "metadata": {},
     "output_type": "execute_result"
    },
    {
     "data": {
      "image/png": "[encoded data removed]",
      "text/plain": [
       "<Figure size 432x288 with 1 Axes>"
      ]
     },
     "metadata": {
      "needs_background": "light"
     },
     "output_type": "display_data"
    }
   ],
   "source": [
    "plt.scatter(reac,like, label = 'True Position')\n",
    "plt.xlabel(\"Reaction\")\n",
    "plt.ylabel(\"Likes\")\n",
    "plt.title(\"REACTION VS LIKES\")"
   ]
  },
  {
   "cell_type": "code",
   "execution_count": 15,
   "metadata": {},
   "outputs": [],
   "source": [
    "com = df[\"num_comments\"]\n",
    "love = df[\"num_loves\"]"
   ]
  },
  {
   "cell_type": "code",
   "execution_count": 16,
   "metadata": {},
   "outputs": [
    {
     "data": {
      "text/plain": [
       "Text(0.5, 1.0, 'COMMENTS VS LOVES')"
      ]
     },
     "execution_count": 16,
     "metadata": {},
     "output_type": "execute_result"
    },
    {
     "data": {
      "image/png": "[encoded data removed]",
      "text/plain": [
       "<Figure size 432x288 with 1 Axes>"
      ]
     },
     "metadata": {
      "needs_background": "light"
     },
     "output_type": "display_data"
    }
   ],
   "source": [
    "plt.scatter(com,love, label = 'True Position', color='r')\n",
    "plt.xlabel(\"Comments\")\n",
    "plt.ylabel(\"Loves\")\n",
    "plt.title(\"COMMENTS VS LOVES\")"
   ]
  },
  {
   "cell_type": "code",
   "execution_count": 17,
   "metadata": {},
   "outputs": [
    {
     "data": {
      "text/plain": [
       "<function matplotlib.pyplot.show(*args, **kw)>"
      ]
     },
     "execution_count": 17,
     "metadata": {},
     "output_type": "execute_result"
    },
    {
     "data": {
      "image/png": "[encoded data removed]",
      "text/plain": [
       "<Figure size 1296x576 with 4 Axes>"
      ]
     },
     "metadata": {
      "needs_background": "light"
     },
     "output_type": "display_data"
    }
   ],
   "source": [
    "f,ax=plt.subplots(2,2,figsize=(8,8))\n",
    "\n",
    "ax[0,0].set_title('Number of Reactions')\n",
    "df['num_reactions'].hist(figsize=(18,8),color='b', ax=ax[0,0])\n",
    "pd.DataFrame.skew(df['num_reactions'])\n",
    "\n",
    "ax[0,1].set_title('Number of Comments')\n",
    "df['num_comments'].hist(figsize=(18,8),color='g', ax=ax[0,1])\n",
    "pd.DataFrame.skew(df['num_comments'])\n",
    "\n",
    "ax[1,0].set_title('Number of Shares')\n",
    "df['num_shares'].hist(figsize=(18,8),color='y', ax=ax[1,0])\n",
    "pd.DataFrame.skew(df['num_shares'])\n",
    "\n",
    "ax[1,1].set_title('Number of Likes')\n",
    "df['num_likes'].hist(figsize=(18,8),color='black', ax=ax[1,1])\n",
    "pd.DataFrame.skew(df['num_likes'])\n",
    "\n",
    "plt.show"
   ]
  },
  {
   "cell_type": "code",
   "execution_count": 18,
   "metadata": {},
   "outputs": [
    {
     "data": {
      "text/plain": [
       "<function matplotlib.pyplot.show(*args, **kw)>"
      ]
     },
     "execution_count": 18,
     "metadata": {},
     "output_type": "execute_result"
    },
    {
     "data": {
      "image/png": "[encoded data removed]",
      "text/plain": [
       "<Figure size 576x576 with 1 Axes>"
      ]
     },
     "metadata": {
      "needs_background": "light"
     },
     "output_type": "display_data"
    }
   ],
   "source": [
    "import seaborn as sns\n",
    "f,ax=plt.subplots(1,figsize=(8,8))\n",
    "sns.countplot('status_type',data=df)\n",
    "plt.show"
   ]
  },
  {
   "cell_type": "code",
   "execution_count": 97,
   "metadata": {},
   "outputs": [
    {
     "data": {
      "image/png": "[encoded data removed]",
      "text/plain": [
       "<Figure size 720x720 with 2 Axes>"
      ]
     },
     "metadata": {
      "needs_background": "light"
     },
     "output_type": "display_data"
    }
   ],
   "source": [
    "# Correlation Matrix with Heatmap\n",
    "\n",
    "import pandas as pd\n",
    "import numpy as np\n",
    "import seaborn as sns\n",
    "\n",
    "corrmat = df.corr()\n",
    "top_corr_features = corrmat.index\n",
    "plt.figure(figsize=(10,10))\n",
    "\n",
    "#plot heat map\n",
    "g=sns.heatmap(df[top_corr_features].corr(),annot=True,cmap=\"RdYlGn\", linecolor = 'black')"
   ]
  },
  {
   "cell_type": "code",
   "execution_count": 20,
   "metadata": {},
   "outputs": [
    {
     "name": "stderr",
     "output_type": "stream",
     "text": [
      "C:\\Users\\ASUS\\Anaconda3\\lib\\site-packages\\sklearn\\ensemble\\forest.py:245: FutureWarning: The default value of n_estimators will change from 10 in version 0.20 to 100 in 0.22.\n",
      "  \"10 in version 0.20 to 100 in 0.22.\", FutureWarning)\n"
     ]
    },
    {
     "name": "stdout",
     "output_type": "stream",
     "text": [
      "[0.04913087 0.12473741 0.02496241 0.02139325 0.06049272 0.02221536\n",
      " 0.05937193 0.01899728 0.61869877]\n"
     ]
    },
    {
     "data": {
      "image/png": "[encoded data removed]",
      "text/plain": [
       "<Figure size 432x288 with 1 Axes>"
      ]
     },
     "metadata": {
      "needs_background": "light"
     },
     "output_type": "display_data"
    }
   ],
   "source": [
    "#Feature Selection\n",
    "\n",
    "import pandas as pd\n",
    "import numpy as np\n",
    "from sklearn.ensemble import ExtraTreesClassifier\n",
    "import matplotlib.pyplot as plt\n",
    "\n",
    "X= df.iloc[:,1:12]\n",
    "y = df.iloc[:,-1]\n",
    "model = ExtraTreesClassifier()\n",
    "model.fit(X,y)\n",
    "print(model.feature_importances_) #use inbuilt class feature_importances of tree based classifiers\n",
    "\n",
    "#plot graph of feature importances for better visualization\n",
    "feat_importances = pd.Series(model.feature_importances_, index=X.columns)\n",
    "feat_importances.nlargest(12).plot(kind='barh')\n",
    "\n",
    "plt.show()"
   ]
  },
  {
   "cell_type": "code",
   "execution_count": 21,
   "metadata": {},
   "outputs": [],
   "source": [
    "#Hierarchical clustering\n",
    "%matplotlib inline \n",
    "import pandas as pd\n",
    "import numpy as np\n",
    "from matplotlib import pyplot as plt\n",
    "from sklearn.cluster import AgglomerativeClustering\n",
    "import scipy.cluster.hierarchy as sch"
   ]
  },
  {
   "cell_type": "code",
   "execution_count": 25,
   "metadata": {},
   "outputs": [],
   "source": [
    "X = np.array(df)"
   ]
  },
  {
   "cell_type": "code",
   "execution_count": 27,
   "metadata": {},
   "outputs": [
    {
     "data": {
      "image/png": "[encoded data removed]",
      "text/plain": [
       "<Figure size 720x720 with 1 Axes>"
      ]
     },
     "metadata": {
      "needs_background": "light"
     },
     "output_type": "display_data"
    }
   ],
   "source": [
    "plt.figure(figsize=(10,10))\n",
    "dendrogram = sch.dendrogram(sch.linkage(X, method='ward'))"
   ]
  },
  {
   "cell_type": "code",
   "execution_count": 28,
   "metadata": {},
   "outputs": [],
   "source": [
    "# Melakukan fitting hierarchical clustering \n",
    "model = AgglomerativeClustering(n_clusters=3, affinity='euclidean', linkage='ward')\n",
    "model.fit(X)\n",
    "labels = model.labels_\n"
   ]
  },
  {
   "cell_type": "code",
   "execution_count": 29,
   "metadata": {},
   "outputs": [
    {
     "data": {
      "text/plain": [
       "array([2, 2, 2, ..., 2, 2, 2], dtype=int64)"
      ]
     },
     "execution_count": 29,
     "metadata": {},
     "output_type": "execute_result"
    }
   ],
   "source": [
    "labels"
   ]
  },
  {
   "cell_type": "code",
   "execution_count": 30,
   "metadata": {},
   "outputs": [
    {
     "data": {
      "text/plain": [
       "0.7728752135851344"
      ]
     },
     "execution_count": 30,
     "metadata": {},
     "output_type": "execute_result"
    }
   ],
   "source": [
    "from sklearn.cluster import KMeans\n",
    "from sklearn.metrics import silhouette_score\n",
    "\n",
    "silhouette_score(X, labels, metric='euclidean')"
   ]
  },
  {
   "cell_type": "code",
   "execution_count": 31,
   "metadata": {},
   "outputs": [
    {
     "data": {
      "image/png": "[encoded data removed]",
      "text/plain": [
       "<Figure size 720x720 with 1 Axes>"
      ]
     },
     "metadata": {
      "needs_background": "light"
     },
     "output_type": "display_data"
    }
   ],
   "source": [
    "plt.figure(figsize=(10,10))\n",
    "dendrogram = sch.dendrogram(sch.linkage(X, method='complete'))"
   ]
  },
  {
   "cell_type": "code",
   "execution_count": 32,
   "metadata": {},
   "outputs": [],
   "source": [
    "# Melakukan fitting hierarchical clustering \n",
    "model = AgglomerativeClustering(n_clusters=3, affinity='euclidean', linkage='complete')\n",
    "model.fit(X)\n",
    "labels = model.labels_"
   ]
  },
  {
   "cell_type": "code",
   "execution_count": 33,
   "metadata": {},
   "outputs": [
    {
     "data": {
      "text/plain": [
       "array([0, 0, 0, ..., 0, 0, 0], dtype=int64)"
      ]
     },
     "execution_count": 33,
     "metadata": {},
     "output_type": "execute_result"
    }
   ],
   "source": [
    "labels"
   ]
  },
  {
   "cell_type": "code",
   "execution_count": 34,
   "metadata": {},
   "outputs": [
    {
     "data": {
      "text/plain": [
       "0.8910002643150313"
      ]
     },
     "execution_count": 34,
     "metadata": {},
     "output_type": "execute_result"
    }
   ],
   "source": [
    "silhouette_score(X, labels, metric='euclidean')"
   ]
  },
  {
   "cell_type": "code",
   "execution_count": 35,
   "metadata": {},
   "outputs": [
    {
     "data": {
      "image/png": "[encoded data removed]",
      "text/plain": [
       "<Figure size 720x720 with 1 Axes>"
      ]
     },
     "metadata": {
      "needs_background": "light"
     },
     "output_type": "display_data"
    }
   ],
   "source": [
    "plt.figure(figsize=(10,10))\n",
    "dendrogram = sch.dendrogram(sch.linkage(X, method='single'))"
   ]
  },
  {
   "cell_type": "code",
   "execution_count": 36,
   "metadata": {},
   "outputs": [],
   "source": [
    "# Melakukan fitting hierarchical clustering \n",
    "model = AgglomerativeClustering(n_clusters=3, affinity='euclidean', linkage='single')\n",
    "model.fit(X)\n",
    "labels = model.labels_"
   ]
  },
  {
   "cell_type": "code",
   "execution_count": 37,
   "metadata": {},
   "outputs": [
    {
     "data": {
      "text/plain": [
       "array([1, 1, 1, ..., 1, 1, 1], dtype=int64)"
      ]
     },
     "execution_count": 37,
     "metadata": {},
     "output_type": "execute_result"
    }
   ],
   "source": [
    "labels"
   ]
  },
  {
   "cell_type": "code",
   "execution_count": 38,
   "metadata": {},
   "outputs": [
    {
     "data": {
      "text/plain": [
       "0.9541327829005506"
      ]
     },
     "execution_count": 38,
     "metadata": {},
     "output_type": "execute_result"
    }
   ],
   "source": [
    "from sklearn.cluster import KMeans\n",
    "from sklearn.metrics import silhouette_score\n",
    "\n",
    "silhouette_score(X, labels, metric='euclidean')"
   ]
  },
  {
   "cell_type": "code",
   "execution_count": 43,
   "metadata": {},
   "outputs": [
    {
     "data": {
      "image/png": "[encoded data removed]",
      "text/plain": [
       "<Figure size 720x720 with 1 Axes>"
      ]
     },
     "metadata": {
      "needs_background": "light"
     },
     "output_type": "display_data"
    }
   ],
   "source": [
    "plt.figure(figsize=(10,10))\n",
    "dendrogram = sch.dendrogram(sch.linkage(X, method='average'))"
   ]
  },
  {
   "cell_type": "code",
   "execution_count": 40,
   "metadata": {},
   "outputs": [],
   "source": [
    "# Melakukan fitting hierarchical clustering \n",
    "model = AgglomerativeClustering(n_clusters=3, affinity='euclidean', linkage='average')\n",
    "model.fit(X)\n",
    "labels = model.labels_"
   ]
  },
  {
   "cell_type": "code",
   "execution_count": 41,
   "metadata": {},
   "outputs": [
    {
     "data": {
      "text/plain": [
       "array([0, 0, 0, ..., 0, 0, 0], dtype=int64)"
      ]
     },
     "execution_count": 41,
     "metadata": {},
     "output_type": "execute_result"
    }
   ],
   "source": [
    "labels"
   ]
  },
  {
   "cell_type": "code",
   "execution_count": 42,
   "metadata": {},
   "outputs": [
    {
     "data": {
      "text/plain": [
       "0.9173663458907084"
      ]
     },
     "execution_count": 42,
     "metadata": {},
     "output_type": "execute_result"
    }
   ],
   "source": [
    "from sklearn.cluster import KMeans\n",
    "from sklearn.metrics import silhouette_score\n",
    "\n",
    "silhouette_score(X, labels, metric='euclidean')"
   ]
  },
  {
   "cell_type": "code",
   "execution_count": 44,
   "metadata": {},
   "outputs": [],
   "source": [
    "#K-Means Clustering\n",
    "%matplotlib inline \n",
    "import matplotlib.pyplot as plt \n",
    "import numpy as np \n",
    "import pandas as pd \n",
    "from sklearn.cluster import KMeans\n",
    "from sklearn.metrics import silhouette_samples, silhouette_score"
   ]
  },
  {
   "cell_type": "code",
   "execution_count": 45,
   "metadata": {},
   "outputs": [],
   "source": [
    "X = np.array(df)"
   ]
  },
  {
   "cell_type": "code",
   "execution_count": 46,
   "metadata": {},
   "outputs": [
    {
     "data": {
      "image/png": "[encoded data removed]",
      "text/plain": [
       "<Figure size 432x288 with 1 Axes>"
      ]
     },
     "metadata": {
      "needs_background": "light"
     },
     "output_type": "display_data"
    }
   ],
   "source": [
    "Sum_of_squared_distances = []\n",
    "K = range(1,15)\n",
    "for k in K:\n",
    "    km = KMeans(n_clusters=k)\n",
    "    km = km.fit(X)\n",
    "    Sum_of_squared_distances.append(km.inertia_)\n",
    "\n",
    "plt.plot(K, Sum_of_squared_distances, 'bx-')\n",
    "plt.xlabel('k')\n",
    "plt.ylabel('Sum_of_squared_distances')\n",
    "plt.title('Elbow Method For Optimal k')\n",
    "plt.show()\n",
    "\n",
    "#fungsi dari SSE merupakan penjumlahan nilai kuadrat dari jarak data dengan pusat Cluster\n",
    "#semakin besar nilai k maka semakin kecil nilai sse yang dicapai"
   ]
  },
  {
   "cell_type": "code",
   "execution_count": 47,
   "metadata": {},
   "outputs": [
    {
     "data": {
      "text/plain": [
       "KMeans(algorithm='auto', copy_x=True, init='k-means++', max_iter=300,\n",
       "       n_clusters=4, n_init=10, n_jobs=None, precompute_distances='auto',\n",
       "       random_state=None, tol=0.0001, verbose=0)"
      ]
     },
     "execution_count": 47,
     "metadata": {},
     "output_type": "execute_result"
    }
   ],
   "source": [
    "# Melakukan aktivasi algoritma K-Means \n",
    "kmeans = KMeans(n_clusters=4)\n",
    "kmeans.fit(X)"
   ]
  },
  {
   "cell_type": "code",
   "execution_count": 48,
   "metadata": {},
   "outputs": [
    {
     "name": "stdout",
     "output_type": "stream",
     "text": [
      "[[2.37692806e+03 4.05172662e+02 5.19528777e+02 3.95046763e+02\n",
      "  1.06996403e+02 8.98920863e+00 6.13309353e+00 1.56115108e+00\n",
      "  8.02158273e-01]\n",
      " [7.13268680e+01 1.84605723e+01 1.09794913e+02 1.01838315e+02\n",
      "  6.81669316e+00 5.57392687e-01 3.45151033e-01 1.66772655e-01\n",
      "  6.75675676e-02]\n",
      " [7.76728846e+03 5.79557692e+02 6.38653846e+02 4.91519231e+02\n",
      "  1.27423077e+02 5.88461538e+00 9.21153846e+00 3.38461538e+00\n",
      "  1.23076923e+00]\n",
      " [1.59020930e+02 5.41093023e+01 1.75366744e+03 1.72118372e+03\n",
      "  2.43930233e+01 6.46279070e+00 1.29069767e+00 1.37209302e-01\n",
      "  2.00000000e-01]]\n"
     ]
    }
   ],
   "source": [
    "#menampilkan pusat cluster\n",
    "print(kmeans.cluster_centers_)"
   ]
  },
  {
   "cell_type": "code",
   "execution_count": 49,
   "metadata": {},
   "outputs": [
    {
     "name": "stdout",
     "output_type": "stream",
     "text": [
      "[1 1 1 ... 1 1 1]\n"
     ]
    }
   ],
   "source": [
    "#Hasil cluster\n",
    "print(kmeans.labels_)"
   ]
  },
  {
   "cell_type": "code",
   "execution_count": 50,
   "metadata": {},
   "outputs": [
    {
     "data": {
      "text/plain": [
       "array([0.58505289, 0.89890797, 0.83936238, ..., 0.922154  , 0.78838644,\n",
       "       0.92677607])"
      ]
     },
     "execution_count": 50,
     "metadata": {},
     "output_type": "execute_result"
    }
   ],
   "source": [
    "silhouette_samples(X, kmeans.labels_, metric='euclidean')"
   ]
  },
  {
   "cell_type": "code",
   "execution_count": 51,
   "metadata": {},
   "outputs": [
    {
     "data": {
      "text/plain": [
       "0.8167000913180937"
      ]
     },
     "execution_count": 51,
     "metadata": {},
     "output_type": "execute_result"
    }
   ],
   "source": [
    "silhouette_score(X, kmeans.labels_, metric='euclidean')"
   ]
  },
  {
   "cell_type": "code",
   "execution_count": 52,
   "metadata": {},
   "outputs": [
    {
     "name": "stdout",
     "output_type": "stream",
     "text": [
      "[[512 262 529 ...   1   1   0]\n",
      " [  0   0 150 ...   0   0   0]\n",
      " [236  57 227 ...   1   0   0]\n",
      " ...\n",
      " [  0   0   2 ...   0   0   0]\n",
      " [ 12  22 351 ...   0   0   0]\n",
      " [  0   0  17 ...   0   0   0]]\n"
     ]
    }
   ],
   "source": [
    "X_array = np.array(X)\n",
    "print(X_array)"
   ]
  },
  {
   "cell_type": "code",
   "execution_count": 56,
   "metadata": {},
   "outputs": [
    {
     "data": {
      "text/plain": [
       "array([[0.02439257, 0.07651869, 0.11231423, ..., 0.00636943, 0.01960784,\n",
       "        0.        ],\n",
       "       [0.        , 0.        , 0.03184713, ..., 0.        , 0.        ,\n",
       "        0.        ],\n",
       "       [0.01124345, 0.0166472 , 0.04819533, ..., 0.00636943, 0.        ,\n",
       "        0.        ],\n",
       "       ...,\n",
       "       [0.        , 0.        , 0.00042463, ..., 0.        , 0.        ,\n",
       "        0.        ],\n",
       "       [0.0005717 , 0.00642523, 0.07452229, ..., 0.        , 0.        ,\n",
       "        0.        ],\n",
       "       [0.        , 0.        , 0.00360934, ..., 0.        , 0.        ,\n",
       "        0.        ]])"
      ]
     },
     "execution_count": 56,
     "metadata": {},
     "output_type": "execute_result"
    }
   ],
   "source": [
    "from sklearn.preprocessing import MinMaxScaler\n",
    "scaler = MinMaxScaler()\n",
    "x_scaled = scaler.fit_transform(X_array)\n",
    "x_scaled\n"
   ]
  },
  {
   "cell_type": "code",
   "execution_count": 95,
   "metadata": {},
   "outputs": [
    {
     "data": {
      "text/html": [
       "<div>\n",
       "<style scoped>\n",
       "    .dataframe tbody tr th:only-of-type {\n",
       "        vertical-align: middle;\n",
       "    }\n",
       "\n",
       "    .dataframe tbody tr th {\n",
       "        vertical-align: top;\n",
       "    }\n",
       "\n",
       "    .dataframe thead th {\n",
       "        text-align: right;\n",
       "    }\n",
       "</style>\n",
       "<table border=\"1\" class=\"dataframe\">\n",
       "  <thead>\n",
       "    <tr style=\"text-align: right;\">\n",
       "      <th></th>\n",
       "      <th>num_comments</th>\n",
       "      <th>num_shares</th>\n",
       "      <th>num_reactions</th>\n",
       "      <th>num_likes</th>\n",
       "      <th>num_loves</th>\n",
       "      <th>num_wows</th>\n",
       "      <th>num_hahas</th>\n",
       "      <th>num_sads</th>\n",
       "      <th>num_angrys</th>\n",
       "      <th>kluster</th>\n",
       "    </tr>\n",
       "  </thead>\n",
       "  <tbody>\n",
       "    <tr>\n",
       "      <td>0</td>\n",
       "      <td>512</td>\n",
       "      <td>262</td>\n",
       "      <td>529</td>\n",
       "      <td>432</td>\n",
       "      <td>92</td>\n",
       "      <td>3</td>\n",
       "      <td>1</td>\n",
       "      <td>1</td>\n",
       "      <td>0</td>\n",
       "      <td>1</td>\n",
       "    </tr>\n",
       "    <tr>\n",
       "      <td>1</td>\n",
       "      <td>0</td>\n",
       "      <td>0</td>\n",
       "      <td>150</td>\n",
       "      <td>150</td>\n",
       "      <td>0</td>\n",
       "      <td>0</td>\n",
       "      <td>0</td>\n",
       "      <td>0</td>\n",
       "      <td>0</td>\n",
       "      <td>1</td>\n",
       "    </tr>\n",
       "    <tr>\n",
       "      <td>2</td>\n",
       "      <td>236</td>\n",
       "      <td>57</td>\n",
       "      <td>227</td>\n",
       "      <td>204</td>\n",
       "      <td>21</td>\n",
       "      <td>1</td>\n",
       "      <td>1</td>\n",
       "      <td>0</td>\n",
       "      <td>0</td>\n",
       "      <td>1</td>\n",
       "    </tr>\n",
       "    <tr>\n",
       "      <td>3</td>\n",
       "      <td>0</td>\n",
       "      <td>0</td>\n",
       "      <td>111</td>\n",
       "      <td>111</td>\n",
       "      <td>0</td>\n",
       "      <td>0</td>\n",
       "      <td>0</td>\n",
       "      <td>0</td>\n",
       "      <td>0</td>\n",
       "      <td>1</td>\n",
       "    </tr>\n",
       "    <tr>\n",
       "      <td>4</td>\n",
       "      <td>0</td>\n",
       "      <td>0</td>\n",
       "      <td>213</td>\n",
       "      <td>204</td>\n",
       "      <td>9</td>\n",
       "      <td>0</td>\n",
       "      <td>0</td>\n",
       "      <td>0</td>\n",
       "      <td>0</td>\n",
       "      <td>1</td>\n",
       "    </tr>\n",
       "    <tr>\n",
       "      <td>5</td>\n",
       "      <td>6</td>\n",
       "      <td>0</td>\n",
       "      <td>217</td>\n",
       "      <td>211</td>\n",
       "      <td>5</td>\n",
       "      <td>1</td>\n",
       "      <td>0</td>\n",
       "      <td>0</td>\n",
       "      <td>0</td>\n",
       "      <td>1</td>\n",
       "    </tr>\n",
       "    <tr>\n",
       "      <td>6</td>\n",
       "      <td>614</td>\n",
       "      <td>72</td>\n",
       "      <td>503</td>\n",
       "      <td>418</td>\n",
       "      <td>70</td>\n",
       "      <td>10</td>\n",
       "      <td>2</td>\n",
       "      <td>0</td>\n",
       "      <td>3</td>\n",
       "      <td>1</td>\n",
       "    </tr>\n",
       "    <tr>\n",
       "      <td>7</td>\n",
       "      <td>453</td>\n",
       "      <td>53</td>\n",
       "      <td>295</td>\n",
       "      <td>260</td>\n",
       "      <td>32</td>\n",
       "      <td>1</td>\n",
       "      <td>1</td>\n",
       "      <td>0</td>\n",
       "      <td>1</td>\n",
       "      <td>1</td>\n",
       "    </tr>\n",
       "    <tr>\n",
       "      <td>8</td>\n",
       "      <td>1</td>\n",
       "      <td>0</td>\n",
       "      <td>203</td>\n",
       "      <td>198</td>\n",
       "      <td>5</td>\n",
       "      <td>0</td>\n",
       "      <td>0</td>\n",
       "      <td>0</td>\n",
       "      <td>0</td>\n",
       "      <td>1</td>\n",
       "    </tr>\n",
       "    <tr>\n",
       "      <td>9</td>\n",
       "      <td>9</td>\n",
       "      <td>1</td>\n",
       "      <td>170</td>\n",
       "      <td>167</td>\n",
       "      <td>3</td>\n",
       "      <td>0</td>\n",
       "      <td>0</td>\n",
       "      <td>0</td>\n",
       "      <td>0</td>\n",
       "      <td>1</td>\n",
       "    </tr>\n",
       "  </tbody>\n",
       "</table>\n",
       "</div>"
      ],
      "text/plain": [
       "   num_comments  num_shares  num_reactions  num_likes  num_loves  num_wows  \\\n",
       "0           512         262            529        432         92         3   \n",
       "1             0           0            150        150          0         0   \n",
       "2           236          57            227        204         21         1   \n",
       "3             0           0            111        111          0         0   \n",
       "4             0           0            213        204          9         0   \n",
       "5             6           0            217        211          5         1   \n",
       "6           614          72            503        418         70        10   \n",
       "7           453          53            295        260         32         1   \n",
       "8             1           0            203        198          5         0   \n",
       "9             9           1            170        167          3         0   \n",
       "\n",
       "   num_hahas  num_sads  num_angrys  kluster  \n",
       "0          1         1           0        1  \n",
       "1          0         0           0        1  \n",
       "2          1         0           0        1  \n",
       "3          0         0           0        1  \n",
       "4          0         0           0        1  \n",
       "5          0         0           0        1  \n",
       "6          2         0           3        1  \n",
       "7          1         0           1        1  \n",
       "8          0         0           0        1  \n",
       "9          0         0           0        1  "
      ]
     },
     "execution_count": 95,
     "metadata": {},
     "output_type": "execute_result"
    }
   ],
   "source": [
    "df[\"kluster\"] = kmeans.labels_\n",
    "df.head(10)"
   ]
  },
  {
   "cell_type": "code",
   "execution_count": 96,
   "metadata": {},
   "outputs": [
    {
     "data": {
      "image/png": "[encoded data removed]",
      "text/plain": [
       "<Figure size 432x288 with 1 Axes>"
      ]
     },
     "metadata": {
      "needs_background": "light"
     },
     "output_type": "display_data"
    }
   ],
   "source": [
    "fig, ax = plt.subplots()\n",
    "sct = ax.scatter(x_scaled[:,1], x_scaled[:,0], s = 100, c = df.kluster, marker = \"o\", alpha = 0.5)\n",
    "centers = kmeans.cluster_centers_\n",
    "ax.scatter(centers[:,1], centers[:,0], c='red', s=200, alpha=0.5);\n",
    "plt.title(\"Hasil Klustering K-Means\")\n",
    "plt.xlabel(\"Scaled Longitude\")\n",
    "plt.ylabel(\"Scaled Latitude\")\n",
    "plt.show()"
   ]
  }
 ],
 "metadata": {
  "kernelspec": {
   "display_name": "Python 3",
   "language": "python",
   "name": "python3"
  },
  "language_info": {
   "codemirror_mode": {
    "name": "ipython",
    "version": 3
   },
   "file_extension": ".py",
   "mimetype": "text/x-python",
   "name": "python",
   "nbconvert_exporter": "python",
   "pygments_lexer": "ipython3",
   "version": "3.7.4"
  }
 },
 "nbformat": 4,
 "nbformat_minor": 2
}
